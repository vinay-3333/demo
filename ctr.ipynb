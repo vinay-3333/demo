{
 "cells": [
  {
   "cell_type": "code",
   "execution_count": 1,
   "metadata": {},
   "outputs": [],
   "source": [
    "import pandas as pd\n",
    "import numpy as np\n",
    "import matplotlib.pyplot as plt\n",
    "import seaborn as sns\n",
    "import scipy.stats as stats"
   ]
  },
  {
   "cell_type": "code",
   "execution_count": 2,
   "metadata": {},
   "outputs": [],
   "source": [
    "ctr=pd.read_csv('C:\\CTR_Prediction\\ctr.csv')"
   ]
  },
  {
   "cell_type": "markdown",
   "metadata": {},
   "source": [
    "#### Issues with Dataset and Solution\n",
    "\n",
    "1. Dirty Data\n",
    "- **`Daily Time Spent on Site->`** \n",
    "    - Zero null value\n",
    "    - Convert datatype into float32\n",
    "    - Not Normal Distribution\n",
    "\n",
    "- **`Age`**\n",
    "    - Zero null value\n",
    "    - Convert datatype into int32\n",
    "    - Almost Normal Ditribution\n",
    "\n",
    "- **`Area Income`**\n",
    "    - Zero null value\n",
    "    - almost normal distribution\n",
    "\n",
    "- **`Daily Internet Usage`**\n",
    "    - Zero null value\n",
    "    - almost normal distribution\n",
    "    \n",
    "- **`Ad Topic Line`**\n",
    "    - Zero null value\n",
    "    - there is 50 sub categores more dominate to other sub categories `Imbalanced Ad topic line attribute`\n",
    "    \n",
    "- **`Gender`**\n",
    "    - zero null value\n",
    "    - `53.76%` Female and `46.24%` Male `Balanced gender Attribute`\n",
    "\n",
    "- **`Click on Ad`**\n",
    "    - Zero null value\n",
    "    - `50.83%` -> 0 and `49.17%` -> 1 `balanced click on ad attribute`\n",
    "\n",
    "\n",
    "2. Messay Data\n",
    "\n",
    "- **`Transformation and scaling`**\n",
    "    - **`Daily Time Spent on Site`,`Age`,`Area of Income`,`Daily Internet Usage`:-** we apply here Scaling or Transformatkion\n"
   ]
  },
  {
   "cell_type": "code",
   "execution_count": 15,
   "metadata": {},
   "outputs": [
    {
     "data": {
      "text/html": [
       "<div>\n",
       "<style scoped>\n",
       "    .dataframe tbody tr th:only-of-type {\n",
       "        vertical-align: middle;\n",
       "    }\n",
       "\n",
       "    .dataframe tbody tr th {\n",
       "        vertical-align: top;\n",
       "    }\n",
       "\n",
       "    .dataframe thead th {\n",
       "        text-align: right;\n",
       "    }\n",
       "</style>\n",
       "<table border=\"1\" class=\"dataframe\">\n",
       "  <thead>\n",
       "    <tr style=\"text-align: right;\">\n",
       "      <th></th>\n",
       "      <th>Daily Time Spent on Site</th>\n",
       "      <th>Age</th>\n",
       "      <th>Area Income</th>\n",
       "      <th>Daily Internet Usage</th>\n",
       "      <th>Clicked on Ad</th>\n",
       "    </tr>\n",
       "  </thead>\n",
       "  <tbody>\n",
       "    <tr>\n",
       "      <th>count</th>\n",
       "      <td>9785.000000</td>\n",
       "      <td>9785.000000</td>\n",
       "      <td>9785.000000</td>\n",
       "      <td>9785.000000</td>\n",
       "      <td>9785.000000</td>\n",
       "    </tr>\n",
       "    <tr>\n",
       "      <th>mean</th>\n",
       "      <td>61.601379</td>\n",
       "      <td>35.839550</td>\n",
       "      <td>53948.143348</td>\n",
       "      <td>177.886144</td>\n",
       "      <td>0.488605</td>\n",
       "    </tr>\n",
       "    <tr>\n",
       "      <th>std</th>\n",
       "      <td>15.698216</td>\n",
       "      <td>8.538524</td>\n",
       "      <td>13360.051625</td>\n",
       "      <td>40.861875</td>\n",
       "      <td>0.499896</td>\n",
       "    </tr>\n",
       "    <tr>\n",
       "      <th>min</th>\n",
       "      <td>32.600000</td>\n",
       "      <td>19.000000</td>\n",
       "      <td>13996.500000</td>\n",
       "      <td>105.220000</td>\n",
       "      <td>0.000000</td>\n",
       "    </tr>\n",
       "    <tr>\n",
       "      <th>25%</th>\n",
       "      <td>48.030000</td>\n",
       "      <td>29.000000</td>\n",
       "      <td>44174.250000</td>\n",
       "      <td>140.150000</td>\n",
       "      <td>0.000000</td>\n",
       "    </tr>\n",
       "    <tr>\n",
       "      <th>50%</th>\n",
       "      <td>59.590000</td>\n",
       "      <td>35.000000</td>\n",
       "      <td>56180.930000</td>\n",
       "      <td>178.920000</td>\n",
       "      <td>0.000000</td>\n",
       "    </tr>\n",
       "    <tr>\n",
       "      <th>75%</th>\n",
       "      <td>76.270000</td>\n",
       "      <td>41.000000</td>\n",
       "      <td>62669.590000</td>\n",
       "      <td>212.870000</td>\n",
       "      <td>1.000000</td>\n",
       "    </tr>\n",
       "    <tr>\n",
       "      <th>max</th>\n",
       "      <td>90.970000</td>\n",
       "      <td>60.000000</td>\n",
       "      <td>79332.330000</td>\n",
       "      <td>269.960000</td>\n",
       "      <td>1.000000</td>\n",
       "    </tr>\n",
       "  </tbody>\n",
       "</table>\n",
       "</div>"
      ],
      "text/plain": [
       "       Daily Time Spent on Site          Age   Area Income  \\\n",
       "count               9785.000000  9785.000000   9785.000000   \n",
       "mean                  61.601379    35.839550  53948.143348   \n",
       "std                   15.698216     8.538524  13360.051625   \n",
       "min                   32.600000    19.000000  13996.500000   \n",
       "25%                   48.030000    29.000000  44174.250000   \n",
       "50%                   59.590000    35.000000  56180.930000   \n",
       "75%                   76.270000    41.000000  62669.590000   \n",
       "max                   90.970000    60.000000  79332.330000   \n",
       "\n",
       "       Daily Internet Usage  Clicked on Ad  \n",
       "count           9785.000000    9785.000000  \n",
       "mean             177.886144       0.488605  \n",
       "std               40.861875       0.499896  \n",
       "min              105.220000       0.000000  \n",
       "25%              140.150000       0.000000  \n",
       "50%              178.920000       0.000000  \n",
       "75%              212.870000       1.000000  \n",
       "max              269.960000       1.000000  "
      ]
     },
     "execution_count": 15,
     "metadata": {},
     "output_type": "execute_result"
    }
   ],
   "source": [
    "ctr.describe()"
   ]
  },
  {
   "cell_type": "code",
   "execution_count": 4,
   "metadata": {},
   "outputs": [],
   "source": [
    "ctr=ctr.drop_duplicates()"
   ]
  },
  {
   "cell_type": "code",
   "execution_count": null,
   "metadata": {},
   "outputs": [],
   "source": []
  },
  {
   "cell_type": "code",
   "execution_count": 5,
   "metadata": {},
   "outputs": [],
   "source": [
    "# ctr_=ctr[~ctr.duplicated()]"
   ]
  },
  {
   "cell_type": "code",
   "execution_count": 6,
   "metadata": {},
   "outputs": [
    {
     "data": {
      "text/html": [
       "<div>\n",
       "<style scoped>\n",
       "    .dataframe tbody tr th:only-of-type {\n",
       "        vertical-align: middle;\n",
       "    }\n",
       "\n",
       "    .dataframe tbody tr th {\n",
       "        vertical-align: top;\n",
       "    }\n",
       "\n",
       "    .dataframe thead th {\n",
       "        text-align: right;\n",
       "    }\n",
       "</style>\n",
       "<table border=\"1\" class=\"dataframe\">\n",
       "  <thead>\n",
       "    <tr style=\"text-align: right;\">\n",
       "      <th></th>\n",
       "      <th>Daily Time Spent on Site</th>\n",
       "      <th>Age</th>\n",
       "      <th>Area Income</th>\n",
       "      <th>Daily Internet Usage</th>\n",
       "      <th>Ad Topic Line</th>\n",
       "      <th>City</th>\n",
       "      <th>Gender</th>\n",
       "      <th>Country</th>\n",
       "      <th>Timestamp</th>\n",
       "      <th>Clicked on Ad</th>\n",
       "    </tr>\n",
       "  </thead>\n",
       "  <tbody>\n",
       "    <tr>\n",
       "      <th>0</th>\n",
       "      <td>62.26</td>\n",
       "      <td>32</td>\n",
       "      <td>69481.85</td>\n",
       "      <td>172.83</td>\n",
       "      <td>Decentralized real-time circuit</td>\n",
       "      <td>Lisafort</td>\n",
       "      <td>Male</td>\n",
       "      <td>Svalbard &amp; Jan Mayen Islands</td>\n",
       "      <td>6/9/2016 21:43</td>\n",
       "      <td>0</td>\n",
       "    </tr>\n",
       "    <tr>\n",
       "      <th>1</th>\n",
       "      <td>41.73</td>\n",
       "      <td>31</td>\n",
       "      <td>61840.26</td>\n",
       "      <td>207.17</td>\n",
       "      <td>Optional full-range projection</td>\n",
       "      <td>West Angelabury</td>\n",
       "      <td>Male</td>\n",
       "      <td>Singapore</td>\n",
       "      <td>1/16/2016 17:56</td>\n",
       "      <td>0</td>\n",
       "    </tr>\n",
       "    <tr>\n",
       "      <th>2</th>\n",
       "      <td>44.40</td>\n",
       "      <td>30</td>\n",
       "      <td>57877.15</td>\n",
       "      <td>172.83</td>\n",
       "      <td>Total 5thgeneration standardization</td>\n",
       "      <td>Reyesfurt</td>\n",
       "      <td>Female</td>\n",
       "      <td>Guadeloupe</td>\n",
       "      <td>6/29/2016 10:50</td>\n",
       "      <td>0</td>\n",
       "    </tr>\n",
       "    <tr>\n",
       "      <th>3</th>\n",
       "      <td>59.88</td>\n",
       "      <td>28</td>\n",
       "      <td>56180.93</td>\n",
       "      <td>207.17</td>\n",
       "      <td>Balanced empowering success</td>\n",
       "      <td>New Michael</td>\n",
       "      <td>Female</td>\n",
       "      <td>Zambia</td>\n",
       "      <td>6/21/2016 14:32</td>\n",
       "      <td>0</td>\n",
       "    </tr>\n",
       "    <tr>\n",
       "      <th>4</th>\n",
       "      <td>49.21</td>\n",
       "      <td>30</td>\n",
       "      <td>54324.73</td>\n",
       "      <td>201.58</td>\n",
       "      <td>Total 5thgeneration standardization</td>\n",
       "      <td>West Richard</td>\n",
       "      <td>Female</td>\n",
       "      <td>Qatar</td>\n",
       "      <td>7/21/2016 10:54</td>\n",
       "      <td>1</td>\n",
       "    </tr>\n",
       "    <tr>\n",
       "      <th>...</th>\n",
       "      <td>...</td>\n",
       "      <td>...</td>\n",
       "      <td>...</td>\n",
       "      <td>...</td>\n",
       "      <td>...</td>\n",
       "      <td>...</td>\n",
       "      <td>...</td>\n",
       "      <td>...</td>\n",
       "      <td>...</td>\n",
       "      <td>...</td>\n",
       "    </tr>\n",
       "    <tr>\n",
       "      <th>9994</th>\n",
       "      <td>41.73</td>\n",
       "      <td>28</td>\n",
       "      <td>39799.73</td>\n",
       "      <td>217.37</td>\n",
       "      <td>Realigned intangible benchmark</td>\n",
       "      <td>Dustinchester</td>\n",
       "      <td>Female</td>\n",
       "      <td>Zambia</td>\n",
       "      <td>3/20/2016 2:44</td>\n",
       "      <td>0</td>\n",
       "    </tr>\n",
       "    <tr>\n",
       "      <th>9995</th>\n",
       "      <td>41.73</td>\n",
       "      <td>31</td>\n",
       "      <td>61840.26</td>\n",
       "      <td>207.17</td>\n",
       "      <td>Profound executive flexibility</td>\n",
       "      <td>West Angelabury</td>\n",
       "      <td>Male</td>\n",
       "      <td>Singapore</td>\n",
       "      <td>1/3/2016 3:22</td>\n",
       "      <td>1</td>\n",
       "    </tr>\n",
       "    <tr>\n",
       "      <th>9996</th>\n",
       "      <td>41.73</td>\n",
       "      <td>28</td>\n",
       "      <td>51501.38</td>\n",
       "      <td>120.49</td>\n",
       "      <td>Managed zero tolerance concept</td>\n",
       "      <td>Kennedyfurt</td>\n",
       "      <td>Male</td>\n",
       "      <td>Luxembourg</td>\n",
       "      <td>5/28/2016 12:20</td>\n",
       "      <td>0</td>\n",
       "    </tr>\n",
       "    <tr>\n",
       "      <th>9997</th>\n",
       "      <td>55.60</td>\n",
       "      <td>39</td>\n",
       "      <td>38067.08</td>\n",
       "      <td>124.44</td>\n",
       "      <td>Intuitive exuding service-desk</td>\n",
       "      <td>North Randy</td>\n",
       "      <td>Female</td>\n",
       "      <td>Egypt</td>\n",
       "      <td>1/5/2016 11:53</td>\n",
       "      <td>0</td>\n",
       "    </tr>\n",
       "    <tr>\n",
       "      <th>9998</th>\n",
       "      <td>46.61</td>\n",
       "      <td>50</td>\n",
       "      <td>43974.49</td>\n",
       "      <td>123.13</td>\n",
       "      <td>Realigned content-based leverage</td>\n",
       "      <td>North Samantha</td>\n",
       "      <td>Female</td>\n",
       "      <td>Malawi</td>\n",
       "      <td>4/4/2016 7:07</td>\n",
       "      <td>1</td>\n",
       "    </tr>\n",
       "  </tbody>\n",
       "</table>\n",
       "<p>9785 rows × 10 columns</p>\n",
       "</div>"
      ],
      "text/plain": [
       "      Daily Time Spent on Site  Age  Area Income  Daily Internet Usage  \\\n",
       "0                        62.26   32     69481.85                172.83   \n",
       "1                        41.73   31     61840.26                207.17   \n",
       "2                        44.40   30     57877.15                172.83   \n",
       "3                        59.88   28     56180.93                207.17   \n",
       "4                        49.21   30     54324.73                201.58   \n",
       "...                        ...  ...          ...                   ...   \n",
       "9994                     41.73   28     39799.73                217.37   \n",
       "9995                     41.73   31     61840.26                207.17   \n",
       "9996                     41.73   28     51501.38                120.49   \n",
       "9997                     55.60   39     38067.08                124.44   \n",
       "9998                     46.61   50     43974.49                123.13   \n",
       "\n",
       "                            Ad Topic Line             City  Gender  \\\n",
       "0         Decentralized real-time circuit         Lisafort    Male   \n",
       "1          Optional full-range projection  West Angelabury    Male   \n",
       "2     Total 5thgeneration standardization        Reyesfurt  Female   \n",
       "3             Balanced empowering success      New Michael  Female   \n",
       "4     Total 5thgeneration standardization     West Richard  Female   \n",
       "...                                   ...              ...     ...   \n",
       "9994       Realigned intangible benchmark    Dustinchester  Female   \n",
       "9995       Profound executive flexibility  West Angelabury    Male   \n",
       "9996       Managed zero tolerance concept      Kennedyfurt    Male   \n",
       "9997       Intuitive exuding service-desk      North Randy  Female   \n",
       "9998     Realigned content-based leverage   North Samantha  Female   \n",
       "\n",
       "                           Country        Timestamp  Clicked on Ad  \n",
       "0     Svalbard & Jan Mayen Islands   6/9/2016 21:43              0  \n",
       "1                        Singapore  1/16/2016 17:56              0  \n",
       "2                       Guadeloupe  6/29/2016 10:50              0  \n",
       "3                           Zambia  6/21/2016 14:32              0  \n",
       "4                            Qatar  7/21/2016 10:54              1  \n",
       "...                            ...              ...            ...  \n",
       "9994                        Zambia   3/20/2016 2:44              0  \n",
       "9995                     Singapore    1/3/2016 3:22              1  \n",
       "9996                    Luxembourg  5/28/2016 12:20              0  \n",
       "9997                         Egypt   1/5/2016 11:53              0  \n",
       "9998                        Malawi    4/4/2016 7:07              1  \n",
       "\n",
       "[9785 rows x 10 columns]"
      ]
     },
     "execution_count": 6,
     "metadata": {},
     "output_type": "execute_result"
    }
   ],
   "source": [
    "ctr"
   ]
  },
  {
   "cell_type": "code",
   "execution_count": 34,
   "metadata": {},
   "outputs": [
    {
     "data": {
      "text/plain": [
       "array([323, 187, 186, 173, 152, 151, 148, 145, 145, 145, 137, 130, 121,\n",
       "       119, 108, 108, 106, 106, 105, 101, 100,  96,  94,  94,  93,  92,\n",
       "        89,  86,  83,  75,  72,  70,  70,  68,  67,  67,  67,  66,  64,\n",
       "        64,  63,  62,  61,  58,  58,  57,  55,  50,  50,  50,  50,  49,\n",
       "        48,  46,  45,  44,  42,  41,  41,  40,  40,  39,  39,  39,  38,\n",
       "        38,  38,  37,  37,  37,  36,  35,  35,  34,  34,  34,  33,  33,\n",
       "        33,  33,  33,  32,  32,  32,  32,  31,  31,  30,  30,  29,  29,\n",
       "        29,  29,  29,  28,  28,  28,  28,  27,  27,  27,  26,  26,  26,\n",
       "        26,  25,  24,  24,  24,  24,  23,  23,  23,  23,  23,  23,  23,\n",
       "        23,  22,  22,  22,  22,  22,  22,  21,  21,  21,  21,  21,  21,\n",
       "        20,  20,  19,  19,  19,  18,  18,  18,  18,  18,  18,  17,  17,\n",
       "        17,  17,  17,  17,  17,  17,  16,  16,  16,  16,  16,  16,  16,\n",
       "        16,  16,  16,  16,  16,  15,  15,  15,  15,  15,  15,  15,  15,\n",
       "        14,  14,  14,  14,  14,  14,  13,  13,  13,  13,  13,  13,  13,\n",
       "        12,  12,  12,  12,  12,  12,  12,  12,  12,  12,  11,  11,  11,\n",
       "        11,  11,  11,  11,  11,  11,  11,  11,  10,  10,  10,  10,  10,\n",
       "        10,  10,  10,  10,  10,  10,   9,   9,   9,   9,   9,   9,   9,\n",
       "         9,   9,   9,   9,   9,   9,   8,   8,   8,   8,   8,   8,   8,\n",
       "         8,   8,   8,   8,   8,   8,   7,   7,   7,   7,   7,   7,   7,\n",
       "         7,   7,   7,   7,   7,   7,   7,   7,   7,   7,   7,   7,   7,\n",
       "         7,   7,   6,   6,   6,   6,   6,   6,   6,   6,   6,   6,   6,\n",
       "         6,   6,   6,   6,   6,   6,   6,   6,   6,   6,   6,   6,   5,\n",
       "         5,   5,   5,   5,   5,   5,   5,   5,   5,   5,   5,   5,   5,\n",
       "         5,   5,   5,   5,   5,   5,   5,   5,   5,   5,   4,   4,   4,\n",
       "         4,   4,   4,   4,   4,   4,   4,   4,   4,   4,   4,   4,   4,\n",
       "         4,   4,   4,   4,   4,   4,   3,   3,   3,   3,   3,   3,   3,\n",
       "         3,   3,   3,   3,   3,   3,   3,   3,   3,   3,   3,   3,   3,\n",
       "         3,   3,   3,   3,   3,   3,   3,   3,   3,   3,   3,   3,   3,\n",
       "         3,   3,   3,   3,   3,   3,   3,   3,   3,   3,   3,   3,   3,\n",
       "         2,   2,   2,   2,   2,   2,   2,   2,   2,   2,   2,   2,   2,\n",
       "         2,   2,   2,   2,   2,   2,   2,   2,   2,   2,   2,   2,   2,\n",
       "         2,   2,   2,   2,   2,   2,   2,   2,   2,   2,   2,   2,   2,\n",
       "         2,   2,   2,   2,   2,   2,   2,   2,   2,   2,   2,   2,   2,\n",
       "         2,   2,   2,   2,   2,   2,   2,   2,   2,   2,   2,   2,   2,\n",
       "         2,   2,   2,   2,   2,   2,   2,   1,   1,   1,   1,   1,   1,\n",
       "         1,   1,   1,   1,   1,   1,   1,   1,   1,   1,   1,   1,   1,\n",
       "         1,   1,   1,   1,   1,   1,   1,   1,   1,   1,   1,   1,   1,\n",
       "         1,   1,   1,   1,   1,   1,   1,   1,   1,   1,   1,   1,   1,\n",
       "         1,   1,   1,   1,   1,   1,   1,   1,   1,   1,   1,   1,   1,\n",
       "         1,   1,   1,   1,   1,   1,   1,   1,   1,   1,   1,   1,   1,\n",
       "         1,   1,   1,   1,   1,   1,   1,   1,   1,   1,   1,   1,   1,\n",
       "         1,   1,   1,   1,   1,   1,   1,   1,   1,   1,   1,   1,   1,\n",
       "         1,   1,   1,   1,   1,   1,   1,   1,   1,   1,   1,   1,   1],\n",
       "      dtype=int64)"
      ]
     },
     "execution_count": 34,
     "metadata": {},
     "output_type": "execute_result"
    }
   ],
   "source": [
    "ctr['Ad Topic Line'].value_counts().values"
   ]
  },
  {
   "cell_type": "code",
   "execution_count": null,
   "metadata": {},
   "outputs": [],
   "source": [
    "ctr."
   ]
  },
  {
   "cell_type": "code",
   "execution_count": 36,
   "metadata": {},
   "outputs": [
    {
     "data": {
      "text/plain": [
       "array([False, False, False, False, False, False, False, False, False,\n",
       "       False, False, False, False, False, False, False, False, False,\n",
       "       False, False, False, False, False, False, False, False, False,\n",
       "       False, False, False, False, False, False, False, False, False,\n",
       "       False, False, False, False, False, False, False, False, False,\n",
       "       False, False, False, False, False, False,  True,  True,  True,\n",
       "        True,  True,  True,  True,  True,  True,  True,  True,  True,\n",
       "        True,  True,  True,  True,  True,  True,  True,  True,  True,\n",
       "        True,  True,  True,  True,  True,  True,  True,  True,  True,\n",
       "        True,  True,  True,  True,  True,  True,  True,  True,  True,\n",
       "        True,  True,  True,  True,  True,  True,  True,  True,  True,\n",
       "        True,  True,  True,  True,  True,  True,  True,  True,  True,\n",
       "        True,  True,  True,  True,  True,  True,  True,  True,  True,\n",
       "        True,  True,  True,  True,  True,  True,  True,  True,  True,\n",
       "        True,  True,  True,  True,  True,  True,  True,  True,  True,\n",
       "        True,  True,  True,  True,  True,  True,  True,  True,  True,\n",
       "        True,  True,  True,  True,  True,  True,  True,  True,  True,\n",
       "        True,  True,  True,  True,  True,  True,  True,  True,  True,\n",
       "        True,  True,  True,  True,  True,  True,  True,  True,  True,\n",
       "        True,  True,  True,  True,  True,  True,  True,  True,  True,\n",
       "        True,  True,  True,  True,  True,  True,  True,  True,  True,\n",
       "        True,  True,  True,  True,  True,  True,  True,  True,  True,\n",
       "        True,  True,  True,  True,  True,  True,  True,  True,  True,\n",
       "        True,  True,  True,  True,  True,  True,  True,  True,  True,\n",
       "        True,  True,  True,  True,  True,  True,  True,  True,  True,\n",
       "        True,  True,  True,  True,  True,  True,  True,  True,  True,\n",
       "        True,  True,  True,  True,  True,  True,  True,  True,  True,\n",
       "        True,  True,  True,  True,  True,  True,  True,  True,  True,\n",
       "        True,  True,  True,  True,  True,  True,  True,  True,  True,\n",
       "        True,  True,  True,  True,  True,  True,  True,  True,  True,\n",
       "        True,  True,  True,  True,  True,  True,  True,  True,  True,\n",
       "        True,  True,  True,  True,  True,  True,  True,  True,  True,\n",
       "        True,  True,  True,  True,  True,  True,  True,  True,  True,\n",
       "        True,  True,  True,  True,  True,  True,  True,  True,  True,\n",
       "        True,  True,  True,  True,  True,  True,  True,  True,  True,\n",
       "        True,  True,  True,  True,  True,  True,  True,  True,  True,\n",
       "        True,  True,  True,  True,  True,  True,  True,  True,  True,\n",
       "        True,  True,  True,  True,  True,  True,  True,  True,  True,\n",
       "        True,  True,  True,  True,  True,  True,  True,  True,  True,\n",
       "        True,  True,  True,  True,  True,  True,  True,  True,  True,\n",
       "        True,  True,  True,  True,  True,  True,  True,  True,  True,\n",
       "        True,  True,  True,  True,  True,  True,  True,  True,  True,\n",
       "        True,  True,  True,  True,  True,  True,  True,  True,  True,\n",
       "        True,  True,  True,  True,  True,  True,  True,  True,  True,\n",
       "        True,  True,  True,  True,  True,  True,  True,  True,  True,\n",
       "        True,  True,  True,  True,  True,  True,  True,  True,  True,\n",
       "        True,  True,  True,  True,  True,  True,  True,  True,  True,\n",
       "        True,  True,  True,  True,  True,  True,  True,  True,  True,\n",
       "        True,  True,  True,  True,  True,  True,  True,  True,  True,\n",
       "        True,  True,  True,  True,  True,  True,  True,  True,  True,\n",
       "        True,  True,  True,  True,  True,  True,  True,  True,  True,\n",
       "        True,  True,  True,  True,  True,  True,  True,  True,  True,\n",
       "        True,  True,  True,  True,  True,  True,  True,  True,  True,\n",
       "        True,  True,  True,  True,  True,  True,  True,  True,  True,\n",
       "        True,  True,  True,  True,  True,  True,  True,  True,  True,\n",
       "        True,  True,  True,  True,  True,  True,  True,  True,  True,\n",
       "        True,  True,  True,  True,  True,  True,  True,  True,  True,\n",
       "        True,  True,  True,  True,  True,  True,  True,  True,  True,\n",
       "        True,  True,  True,  True,  True,  True,  True,  True,  True,\n",
       "        True,  True,  True,  True,  True,  True,  True,  True,  True,\n",
       "        True,  True,  True,  True,  True,  True,  True,  True,  True,\n",
       "        True,  True,  True,  True,  True,  True,  True,  True,  True,\n",
       "        True])"
      ]
     },
     "execution_count": 36,
     "metadata": {},
     "output_type": "execute_result"
    }
   ],
   "source": [
    "ctr['Ad Topic Line'].value_counts().values<50"
   ]
  },
  {
   "cell_type": "code",
   "execution_count": 8,
   "metadata": {},
   "outputs": [
    {
     "data": {
      "text/plain": [
       "0"
      ]
     },
     "execution_count": 8,
     "metadata": {},
     "output_type": "execute_result"
    }
   ],
   "source": [
    "ctr['Daily Time Spent on Site'].isna().sum()"
   ]
  },
  {
   "cell_type": "code",
   "execution_count": 9,
   "metadata": {},
   "outputs": [
    {
     "data": {
      "text/plain": [
       "0"
      ]
     },
     "execution_count": 9,
     "metadata": {},
     "output_type": "execute_result"
    }
   ],
   "source": [
    "ctr['Age'].isna().sum()"
   ]
  },
  {
   "cell_type": "code",
   "execution_count": 10,
   "metadata": {},
   "outputs": [
    {
     "data": {
      "text/plain": [
       "0"
      ]
     },
     "execution_count": 10,
     "metadata": {},
     "output_type": "execute_result"
    }
   ],
   "source": [
    "ctr['Area Income'].isna().sum()"
   ]
  },
  {
   "cell_type": "code",
   "execution_count": 11,
   "metadata": {},
   "outputs": [
    {
     "data": {
      "text/plain": [
       "Ad Topic Line\n",
       "Cloned explicit middleware                             323\n",
       "Sharable reciprocal project                            187\n",
       "Business-focused transitional solution                 186\n",
       "Intuitive exuding service-desk                         173\n",
       "Managed client-server access                           152\n",
       "Optimized upward-trending productivity                 151\n",
       "Function-based context-sensitive secured line          148\n",
       "Optional multi-state hardware                          145\n",
       "Streamlined homogeneous analyzer                       145\n",
       "Focused coherent success                               145\n",
       "Enhanced homogeneous moderator                         137\n",
       "Focused upward-trending core                           130\n",
       "Innovative interactive portal                          121\n",
       "Total 5thgeneration standardization                    119\n",
       "Programmable uniform website                           108\n",
       "Robust uniform framework                               108\n",
       "Reverse-engineered maximized focus group               106\n",
       "Synchronized multi-tasking ability                     106\n",
       "Inverse local hub                                      105\n",
       "Secured 24hour policy                                  101\n",
       "Total cohesive moratorium                              100\n",
       "Vision-oriented attitude-oriented Internet solution     96\n",
       "Optional full-range projection                          94\n",
       "Digitized content-based circuit                         94\n",
       "Synergistic reciprocal attitude                         93\n",
       "Configurable tertiary capability                        92\n",
       "Organized global flexibility                            89\n",
       "Front-line dynamic model                                86\n",
       "Customizable modular Internet solution                  83\n",
       "Up-sized incremental encryption                         75\n",
       "Synergized coherent interface                           72\n",
       "Realigned content-based leverage                        70\n",
       "Function-based incremental standardization              70\n",
       "Synchronized systemic hierarchy                         68\n",
       "Self-enabling local strategy                            67\n",
       "Virtual scalable secured line                           67\n",
       "De-engineered attitude-oriented projection              67\n",
       "Cloned object-oriented benchmark                        66\n",
       "Front-line bandwidth-monitored capacity                 64\n",
       "Devolved human-resource circuit                         64\n",
       "Centralized logistical secured line                     63\n",
       "Proactive actuating Graphical User Interface            62\n",
       "Up-sized 6thgeneration moratorium                       61\n",
       "Multi-layered fresh-thinking neural-net                 58\n",
       "Managed zero tolerance concept                          58\n",
       "Team-oriented executive core                            57\n",
       "Synchronized user-facing core                           55\n",
       "Automated multi-state toolset                           50\n",
       "Profit-focused dedicated utilization                    50\n",
       "Business-focused real-time toolset                      50\n",
       "Name: count, dtype: int64"
      ]
     },
     "execution_count": 11,
     "metadata": {},
     "output_type": "execute_result"
    }
   ],
   "source": [
    "ctr['Ad Topic Line'].value_counts()[0:50]"
   ]
  },
  {
   "cell_type": "code",
   "execution_count": 12,
   "metadata": {},
   "outputs": [
    {
     "data": {
      "text/plain": [
       "Gender\n",
       "Female    53.837506\n",
       "Male      46.162494\n",
       "Name: count, dtype: float64"
      ]
     },
     "execution_count": 12,
     "metadata": {},
     "output_type": "execute_result"
    }
   ],
   "source": [
    "ctr['Gender'].value_counts()/len(ctr['Gender'])*100"
   ]
  },
  {
   "cell_type": "code",
   "execution_count": 13,
   "metadata": {},
   "outputs": [
    {
     "data": {
      "text/plain": [
       "0"
      ]
     },
     "execution_count": 13,
     "metadata": {},
     "output_type": "execute_result"
    }
   ],
   "source": [
    "ctr['Gender'].isna().sum()"
   ]
  },
  {
   "cell_type": "code",
   "execution_count": 14,
   "metadata": {},
   "outputs": [
    {
     "data": {
      "text/plain": [
       "Clicked on Ad\n",
       "0    51.139499\n",
       "1    48.860501\n",
       "Name: count, dtype: float64"
      ]
     },
     "execution_count": 14,
     "metadata": {},
     "output_type": "execute_result"
    }
   ],
   "source": [
    "ctr['Clicked on Ad'].value_counts()/len(ctr['Clicked on Ad'])*100"
   ]
  }
 ],
 "metadata": {
  "kernelspec": {
   "display_name": "Python 3",
   "language": "python",
   "name": "python3"
  },
  "language_info": {
   "codemirror_mode": {
    "name": "ipython",
    "version": 3
   },
   "file_extension": ".py",
   "mimetype": "text/x-python",
   "name": "python",
   "nbconvert_exporter": "python",
   "pygments_lexer": "ipython3",
   "version": "3.11.4"
  }
 },
 "nbformat": 4,
 "nbformat_minor": 2
}
